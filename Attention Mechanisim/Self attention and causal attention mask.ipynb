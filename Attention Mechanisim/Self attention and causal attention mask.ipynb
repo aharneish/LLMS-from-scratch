{
 "cells": [
  {
   "cell_type": "markdown",
   "id": "061fa14c-d1d9-4425-98b4-4258c4c04ec4",
   "metadata": {},
   "source": [
    "1. scaled dot product attention\n",
    "2. compute teh context vectors as weighted sums over the input vectors specific to a certain input element\n",
    "\n",
    "# We will use three matrices\n",
    "$W_{q}$\n",
    "$W_{k}$\n",
    "$W_{v}$\n",
    "\n",
    "### query vector\n",
    "\n",
    "$q^{i} = x^{i}W_{q}$\n",
    "\n",
    "### key vector\n",
    "\n",
    "$k^{i}=x^{i}W_{k}$\n",
    "\n",
    "### value vector\n",
    "\n",
    "$v^{i}=x^{i}W_{v}$"
   ]
  },
  {
   "cell_type": "code",
   "execution_count": 1,
   "id": "4f5e8704-8e5b-4835-8591-f5e2e545b1e7",
   "metadata": {},
   "outputs": [],
   "source": [
    "import torch"
   ]
  },
  {
   "cell_type": "code",
   "execution_count": 2,
   "id": "8c08f04f-2908-4344-8856-465363f26f4f",
   "metadata": {},
   "outputs": [],
   "source": [
    "inputs = torch.tensor(\n",
    "  [[0.43, 0.15, 0.89], # Your     (x^1)\n",
    "   [0.55, 0.87, 0.66], # journey  (x^2)\n",
    "   [0.57, 0.85, 0.64], # starts   (x^3)\n",
    "   [0.22, 0.58, 0.33], # with     (x^4)\n",
    "   [0.77, 0.25, 0.10], # one      (x^5)\n",
    "   [0.05, 0.80, 0.55]] # step     (x^6)\n",
    ")"
   ]
  },
  {
   "cell_type": "code",
   "execution_count": 3,
   "id": "60615e4c-b351-4a81-a3db-3f87272197e5",
   "metadata": {},
   "outputs": [],
   "source": [
    "x_2=inputs[1]\n",
    "d_in=inputs.shape[1]\n",
    "d_out=2"
   ]
  },
  {
   "cell_type": "code",
   "execution_count": 4,
   "id": "5710b507-16cc-499f-b48d-277241c92af7",
   "metadata": {},
   "outputs": [],
   "source": [
    "torch.manual_seed(123)\n",
    "W_query=torch.nn.Parameter(torch.rand(d_in,d_out),requires_grad=False)\n",
    "W_key=torch.nn.Parameter(torch.rand(d_in,d_out),requires_grad=False)\n",
    "W_value=torch.nn.Parameter(torch.rand(d_in,d_out),requires_grad=False)"
   ]
  },
  {
   "cell_type": "code",
   "execution_count": 5,
   "id": "0d0b128f-0707-47b3-945d-9c8727183dc4",
   "metadata": {},
   "outputs": [],
   "source": [
    "query_2=x_2@W_query\n",
    "key_2=x_2@W_key\n",
    "value_2=x_2@W_value"
   ]
  },
  {
   "cell_type": "code",
   "execution_count": 6,
   "id": "5dbc0472-5a52-4205-94cc-d1ccc4cefd79",
   "metadata": {},
   "outputs": [
    {
     "name": "stdout",
     "output_type": "stream",
     "text": [
      "tensor([0.4306, 1.4551])\n"
     ]
    }
   ],
   "source": [
    "print(query_2)"
   ]
  },
  {
   "cell_type": "code",
   "execution_count": 7,
   "id": "dec0e010-e578-4787-9d69-73a6d014e0f9",
   "metadata": {},
   "outputs": [
    {
     "name": "stdout",
     "output_type": "stream",
     "text": [
      "keys.shape: torch.Size([6, 2])\n",
      "values.shape: torch.Size([6, 2])\n"
     ]
    }
   ],
   "source": [
    "keys=inputs@W_key\n",
    "values=inputs@W_value\n",
    "print(\"keys.shape:\",keys.shape)\n",
    "print(\"values.shape:\",values.shape)"
   ]
  },
  {
   "cell_type": "code",
   "execution_count": 8,
   "id": "e26b3a3e-1bbb-49b7-893a-163830aae89a",
   "metadata": {},
   "outputs": [
    {
     "name": "stdout",
     "output_type": "stream",
     "text": [
      "tensor(1.8524)\n"
     ]
    }
   ],
   "source": [
    "keys_2=keys[1]\n",
    "attn_scores_22=query_2.dot(keys_2)\n",
    "print(attn_scores_22)"
   ]
  },
  {
   "cell_type": "code",
   "execution_count": 9,
   "id": "c7319752-8f6a-401c-ad3a-6ac19bfd8481",
   "metadata": {},
   "outputs": [
    {
     "name": "stdout",
     "output_type": "stream",
     "text": [
      "tensor([1.2705, 1.8524, 1.8111, 1.0795, 0.5577, 1.5440])\n"
     ]
    }
   ],
   "source": [
    "attn_scores_2=query_2@keys.T\n",
    "print(attn_scores_2)"
   ]
  },
  {
   "cell_type": "markdown",
   "id": "2a766fed-8aad-48a7-a885-8bee59e7aaa5",
   "metadata": {},
   "source": [
    "### doing a sqrt of the embedding dimension\n",
    "$sqrt(d_k)$ d_k**0.5"
   ]
  },
  {
   "cell_type": "code",
   "execution_count": 10,
   "id": "d5a2c343-a390-4cb2-81bc-83217371a747",
   "metadata": {},
   "outputs": [
    {
     "name": "stdout",
     "output_type": "stream",
     "text": [
      "tensor([0.1500, 0.2264, 0.2199, 0.1311, 0.0906, 0.1820])\n"
     ]
    }
   ],
   "source": [
    "d_k=keys.shape[1]\n",
    "attn_weights_2=torch.softmax(attn_scores_2/(d_k**0.5),dim=-1)\n",
    "print(attn_weights_2)"
   ]
  },
  {
   "cell_type": "code",
   "execution_count": 11,
   "id": "1513c530-e479-480d-8feb-d44cd4f82982",
   "metadata": {},
   "outputs": [
    {
     "name": "stdout",
     "output_type": "stream",
     "text": [
      "tensor([0.3061, 0.8210])\n"
     ]
    }
   ],
   "source": [
    "context_vec_2=attn_weights_2@values\n",
    "print(context_vec_2)"
   ]
  },
  {
   "cell_type": "code",
   "execution_count": 12,
   "id": "c750fcea-4a9e-4087-8960-766de7519b7d",
   "metadata": {},
   "outputs": [],
   "source": [
    "#implementing the Self Attention class\n",
    "import torch.nn as nn\n",
    "class SelfAttention_v1(nn.Module):\n",
    "    def __init__(self,d_in,d_out):\n",
    "        super().__init__()\n",
    "        self.W_query=nn.Parameter(torch.rand(d_in,d_out))\n",
    "        self.W_key=nn.Parameter(torch.rand(d_in,d_out))\n",
    "        self.W_value=nn.Parameter(torch.rand(d_in,d_out))\n",
    "    def forward(self,x):\n",
    "        keys=x@self.W_key\n",
    "        queries=x@self.W_query\n",
    "        values=x@W_value\n",
    "        attn_scores=queries@keys.T\n",
    "        attn_weights=torch.softmax(attn_scores/keys.shape[-1],dim=-1)\n",
    "        context_vec=attn_weights@values\n",
    "        return context_vec"
   ]
  },
  {
   "cell_type": "code",
   "execution_count": 13,
   "id": "abdf89e3-cde1-490c-8fed-81da3945182b",
   "metadata": {},
   "outputs": [
    {
     "name": "stdout",
     "output_type": "stream",
     "text": [
      "tensor([[0.2940, 0.7919],\n",
      "        [0.2988, 0.8038],\n",
      "        [0.2986, 0.8032],\n",
      "        [0.2905, 0.7834],\n",
      "        [0.2890, 0.7799],\n",
      "        [0.2936, 0.7909]], grad_fn=<MmBackward0>)\n"
     ]
    }
   ],
   "source": [
    "torch.manual_seed(123)\n",
    "sa_v1=SelfAttention_v1(d_in,d_out)\n",
    "print(sa_v1(inputs))"
   ]
  },
  {
   "cell_type": "code",
   "execution_count": 14,
   "id": "d3e5a153-159d-4c6e-baa4-6089a5735475",
   "metadata": {},
   "outputs": [],
   "source": [
    "class SelfAttention_v2(nn.Module):\n",
    "    def __init__(self,d_in,d_out,qkv_bias=False):\n",
    "        super().__init__()\n",
    "        self.W_query=nn.Linear(d_in,d_out,bias=qkv_bias)\n",
    "        self.W_key=nn.Linear(d_in,d_out,bias=qkv_bias)\n",
    "        self.W_value=nn.Linear(d_in,d_out,bias=qkv_bias)\n",
    "    def forward(self,x):\n",
    "        keys=self.W_key(x)\n",
    "        queries=self.W_query(x)\n",
    "        values=self.W_value(x)\n",
    "        attn_scores=queries@keys.T\n",
    "        attn_weights=torch.softmax(attn_scores/keys.shape[-1]**0.5,dim=-1)\n",
    "        context_vec=attn_weights@values\n",
    "        return context_vec"
   ]
  },
  {
   "cell_type": "code",
   "execution_count": 15,
   "id": "b110b601-e7cb-45b5-bc96-e9bb8dbb400c",
   "metadata": {},
   "outputs": [
    {
     "name": "stdout",
     "output_type": "stream",
     "text": [
      "tensor([[-0.5337, -0.1051],\n",
      "        [-0.5323, -0.1080],\n",
      "        [-0.5323, -0.1079],\n",
      "        [-0.5297, -0.1076],\n",
      "        [-0.5311, -0.1066],\n",
      "        [-0.5299, -0.1081]], grad_fn=<MmBackward0>)\n"
     ]
    }
   ],
   "source": [
    "torch.manual_seed(123)\n",
    "sa_v2=SelfAttention_v2(d_in,d_out)\n",
    "print(sa_v2(inputs))"
   ]
  },
  {
   "cell_type": "markdown",
   "id": "03dcdd43-1d51-4dc6-b614-365e4237d140",
   "metadata": {},
   "source": [
    "# Causal Attention"
   ]
  },
  {
   "cell_type": "code",
   "execution_count": 16,
   "id": "2c5fe13d-ff98-45b3-be09-0bf09eaaaff4",
   "metadata": {},
   "outputs": [],
   "source": [
    "queries=sa_v2.W_query(inputs)\n",
    "keys=sa_v2.W_key(inputs)\n",
    "values=sa_v2.W_value(inputs)"
   ]
  },
  {
   "cell_type": "code",
   "execution_count": 17,
   "id": "5f26d106-fa0b-44c1-8120-90bbb0cc03cf",
   "metadata": {},
   "outputs": [],
   "source": [
    "attn_scores=queries@keys.T\n",
    "attn_weights=torch.softmax(attn_scores/keys.shape[-1]**0.5,dim=-1)"
   ]
  },
  {
   "cell_type": "code",
   "execution_count": 19,
   "id": "42a49add-3bb0-42d4-bccd-fbf271aeb3e7",
   "metadata": {},
   "outputs": [
    {
     "name": "stdout",
     "output_type": "stream",
     "text": [
      "tensor([[0.1717, 0.1762, 0.1761, 0.1555, 0.1627, 0.1579],\n",
      "        [0.1636, 0.1749, 0.1746, 0.1612, 0.1605, 0.1652],\n",
      "        [0.1637, 0.1749, 0.1746, 0.1611, 0.1606, 0.1651],\n",
      "        [0.1636, 0.1704, 0.1702, 0.1652, 0.1632, 0.1674],\n",
      "        [0.1667, 0.1722, 0.1721, 0.1618, 0.1633, 0.1639],\n",
      "        [0.1624, 0.1709, 0.1706, 0.1654, 0.1625, 0.1682]],\n",
      "       grad_fn=<SoftmaxBackward0>)\n"
     ]
    }
   ],
   "source": [
    "print(attn_weights)"
   ]
  },
  {
   "cell_type": "code",
   "execution_count": 20,
   "id": "4361a54f-9eb0-45b3-aace-9b46215c4351",
   "metadata": {},
   "outputs": [
    {
     "name": "stdout",
     "output_type": "stream",
     "text": [
      "tensor([[1., 0., 0., 0., 0., 0.],\n",
      "        [1., 1., 0., 0., 0., 0.],\n",
      "        [1., 1., 1., 0., 0., 0.],\n",
      "        [1., 1., 1., 1., 0., 0.],\n",
      "        [1., 1., 1., 1., 1., 0.],\n",
      "        [1., 1., 1., 1., 1., 1.]])\n"
     ]
    }
   ],
   "source": [
    "context_length=attn_scores.shape[0]\n",
    "mask_simple=torch.tril(torch.ones(context_length,context_length))\n",
    "print(mask_simple)"
   ]
  },
  {
   "cell_type": "code",
   "execution_count": 21,
   "id": "90a43c26-e6b4-43a3-96de-4689c8f0c923",
   "metadata": {},
   "outputs": [
    {
     "data": {
      "text/plain": [
       "\u001b[31mDocstring:\u001b[39m\n",
       "tril(input, diagonal=0, *, out=None) -> Tensor\n",
       "\n",
       "Returns the lower triangular part of the matrix (2-D tensor) or batch of matrices\n",
       ":attr:`input`, the other elements of the result tensor :attr:`out` are set to 0.\n",
       "\n",
       "The lower triangular part of the matrix is defined as the elements on and\n",
       "below the diagonal.\n",
       "\n",
       "The argument :attr:`diagonal` controls which diagonal to consider. If\n",
       ":attr:`diagonal` = 0, all elements on and below the main diagonal are\n",
       "retained. A positive value includes just as many diagonals above the main\n",
       "diagonal, and similarly a negative value excludes just as many diagonals below\n",
       "the main diagonal. The main diagonal are the set of indices\n",
       ":math:`\\lbrace (i, i) \\rbrace` for :math:`i \\in [0, \\min\\{d_{1}, d_{2}\\} - 1]` where\n",
       ":math:`d_{1}, d_{2}` are the dimensions of the matrix.\n",
       "\n",
       "Args:\n",
       "    input (Tensor): the input tensor.\n",
       "    diagonal (int, optional): the diagonal to consider\n",
       "\n",
       "Keyword args:\n",
       "    out (Tensor, optional): the output tensor.\n",
       "\n",
       "Example::\n",
       "\n",
       "    >>> a = torch.randn(3, 3)\n",
       "    >>> a\n",
       "    tensor([[-1.0813, -0.8619,  0.7105],\n",
       "            [ 0.0935,  0.1380,  2.2112],\n",
       "            [-0.3409, -0.9828,  0.0289]])\n",
       "    >>> torch.tril(a)\n",
       "    tensor([[-1.0813,  0.0000,  0.0000],\n",
       "            [ 0.0935,  0.1380,  0.0000],\n",
       "            [-0.3409, -0.9828,  0.0289]])\n",
       "\n",
       "    >>> b = torch.randn(4, 6)\n",
       "    >>> b\n",
       "    tensor([[ 1.2219,  0.5653, -0.2521, -0.2345,  1.2544,  0.3461],\n",
       "            [ 0.4785, -0.4477,  0.6049,  0.6368,  0.8775,  0.7145],\n",
       "            [ 1.1502,  3.2716, -1.1243, -0.5413,  0.3615,  0.6864],\n",
       "            [-0.0614, -0.7344, -1.3164, -0.7648, -1.4024,  0.0978]])\n",
       "    >>> torch.tril(b, diagonal=1)\n",
       "    tensor([[ 1.2219,  0.5653,  0.0000,  0.0000,  0.0000,  0.0000],\n",
       "            [ 0.4785, -0.4477,  0.6049,  0.0000,  0.0000,  0.0000],\n",
       "            [ 1.1502,  3.2716, -1.1243, -0.5413,  0.0000,  0.0000],\n",
       "            [-0.0614, -0.7344, -1.3164, -0.7648, -1.4024,  0.0000]])\n",
       "    >>> torch.tril(b, diagonal=-1)\n",
       "    tensor([[ 0.0000,  0.0000,  0.0000,  0.0000,  0.0000,  0.0000],\n",
       "            [ 0.4785,  0.0000,  0.0000,  0.0000,  0.0000,  0.0000],\n",
       "            [ 1.1502,  3.2716,  0.0000,  0.0000,  0.0000,  0.0000],\n",
       "            [-0.0614, -0.7344, -1.3164,  0.0000,  0.0000,  0.0000]])\n",
       "\u001b[31mType:\u001b[39m      builtin_function_or_method"
      ]
     },
     "metadata": {},
     "output_type": "display_data"
    }
   ],
   "source": [
    "torch.tril?"
   ]
  },
  {
   "cell_type": "code",
   "execution_count": 22,
   "id": "5699f4cc-6d3b-4b95-9049-869a313e0f60",
   "metadata": {},
   "outputs": [
    {
     "name": "stdout",
     "output_type": "stream",
     "text": [
      "tensor([[0.1717, 0.0000, 0.0000, 0.0000, 0.0000, 0.0000],\n",
      "        [0.1636, 0.1749, 0.0000, 0.0000, 0.0000, 0.0000],\n",
      "        [0.1637, 0.1749, 0.1746, 0.0000, 0.0000, 0.0000],\n",
      "        [0.1636, 0.1704, 0.1702, 0.1652, 0.0000, 0.0000],\n",
      "        [0.1667, 0.1722, 0.1721, 0.1618, 0.1633, 0.0000],\n",
      "        [0.1624, 0.1709, 0.1706, 0.1654, 0.1625, 0.1682]],\n",
      "       grad_fn=<MulBackward0>)\n"
     ]
    }
   ],
   "source": [
    "masked_simple=attn_weights*mask_simple\n",
    "print(masked_simple)"
   ]
  },
  {
   "cell_type": "code",
   "execution_count": 24,
   "id": "f16c3abb-5186-4f27-acf5-c4a4411d1f44",
   "metadata": {},
   "outputs": [
    {
     "name": "stdout",
     "output_type": "stream",
     "text": [
      "tensor([[1.0000, 0.0000, 0.0000, 0.0000, 0.0000, 0.0000],\n",
      "        [0.4833, 0.5167, 0.0000, 0.0000, 0.0000, 0.0000],\n",
      "        [0.3190, 0.3408, 0.3402, 0.0000, 0.0000, 0.0000],\n",
      "        [0.2445, 0.2545, 0.2542, 0.2468, 0.0000, 0.0000],\n",
      "        [0.1994, 0.2060, 0.2058, 0.1935, 0.1953, 0.0000],\n",
      "        [0.1624, 0.1709, 0.1706, 0.1654, 0.1625, 0.1682]],\n",
      "       grad_fn=<DivBackward0>)\n"
     ]
    }
   ],
   "source": [
    "# the above steps may disturb the distribution created by soft max hence we need to renomalize the weights\n",
    "row_sums=masked_simple.sum(dim=-1,keepdim=True)\n",
    "masked_simple_norm=masked_simple/row_sums\n",
    "print(masked_simple_norm)"
   ]
  },
  {
   "cell_type": "code",
   "execution_count": 25,
   "id": "e0f1a575-dcb8-4c4a-b04b-8db5c229e609",
   "metadata": {},
   "outputs": [
    {
     "data": {
      "text/plain": [
       "\u001b[31mDocstring:\u001b[39m\n",
       "triu(input, diagonal=0, *, out=None) -> Tensor\n",
       "\n",
       "Returns the upper triangular part of a matrix (2-D tensor) or batch of matrices\n",
       ":attr:`input`, the other elements of the result tensor :attr:`out` are set to 0.\n",
       "\n",
       "The upper triangular part of the matrix is defined as the elements on and\n",
       "above the diagonal.\n",
       "\n",
       "The argument :attr:`diagonal` controls which diagonal to consider. If\n",
       ":attr:`diagonal` = 0, all elements on and above the main diagonal are\n",
       "retained. A positive value excludes just as many diagonals above the main\n",
       "diagonal, and similarly a negative value includes just as many diagonals below\n",
       "the main diagonal. The main diagonal are the set of indices\n",
       ":math:`\\lbrace (i, i) \\rbrace` for :math:`i \\in [0, \\min\\{d_{1}, d_{2}\\} - 1]` where\n",
       ":math:`d_{1}, d_{2}` are the dimensions of the matrix.\n",
       "\n",
       "Args:\n",
       "    input (Tensor): the input tensor.\n",
       "    diagonal (int, optional): the diagonal to consider\n",
       "\n",
       "Keyword args:\n",
       "    out (Tensor, optional): the output tensor.\n",
       "\n",
       "Example::\n",
       "\n",
       "    >>> a = torch.randn(3, 3)\n",
       "    >>> a\n",
       "    tensor([[ 0.2309,  0.5207,  2.0049],\n",
       "            [ 0.2072, -1.0680,  0.6602],\n",
       "            [ 0.3480, -0.5211, -0.4573]])\n",
       "    >>> torch.triu(a)\n",
       "    tensor([[ 0.2309,  0.5207,  2.0049],\n",
       "            [ 0.0000, -1.0680,  0.6602],\n",
       "            [ 0.0000,  0.0000, -0.4573]])\n",
       "    >>> torch.triu(a, diagonal=1)\n",
       "    tensor([[ 0.0000,  0.5207,  2.0049],\n",
       "            [ 0.0000,  0.0000,  0.6602],\n",
       "            [ 0.0000,  0.0000,  0.0000]])\n",
       "    >>> torch.triu(a, diagonal=-1)\n",
       "    tensor([[ 0.2309,  0.5207,  2.0049],\n",
       "            [ 0.2072, -1.0680,  0.6602],\n",
       "            [ 0.0000, -0.5211, -0.4573]])\n",
       "\n",
       "    >>> b = torch.randn(4, 6)\n",
       "    >>> b\n",
       "    tensor([[ 0.5876, -0.0794, -1.8373,  0.6654,  0.2604,  1.5235],\n",
       "            [-0.2447,  0.9556, -1.2919,  1.3378, -0.1768, -1.0857],\n",
       "            [ 0.4333,  0.3146,  0.6576, -1.0432,  0.9348, -0.4410],\n",
       "            [-0.9888,  1.0679, -1.3337, -1.6556,  0.4798,  0.2830]])\n",
       "    >>> torch.triu(b, diagonal=1)\n",
       "    tensor([[ 0.0000, -0.0794, -1.8373,  0.6654,  0.2604,  1.5235],\n",
       "            [ 0.0000,  0.0000, -1.2919,  1.3378, -0.1768, -1.0857],\n",
       "            [ 0.0000,  0.0000,  0.0000, -1.0432,  0.9348, -0.4410],\n",
       "            [ 0.0000,  0.0000,  0.0000,  0.0000,  0.4798,  0.2830]])\n",
       "    >>> torch.triu(b, diagonal=-1)\n",
       "    tensor([[ 0.5876, -0.0794, -1.8373,  0.6654,  0.2604,  1.5235],\n",
       "            [-0.2447,  0.9556, -1.2919,  1.3378, -0.1768, -1.0857],\n",
       "            [ 0.0000,  0.3146,  0.6576, -1.0432,  0.9348, -0.4410],\n",
       "            [ 0.0000,  0.0000, -1.3337, -1.6556,  0.4798,  0.2830]])\n",
       "\u001b[31mType:\u001b[39m      builtin_function_or_method"
      ]
     },
     "metadata": {},
     "output_type": "display_data"
    }
   ],
   "source": [
    "torch.triu?"
   ]
  },
  {
   "cell_type": "code",
   "execution_count": 27,
   "id": "0f010989-9906-41eb-8f7e-5db02c357a00",
   "metadata": {},
   "outputs": [
    {
     "name": "stdout",
     "output_type": "stream",
     "text": [
      "tensor([[0.3111,   -inf,   -inf,   -inf,   -inf,   -inf],\n",
      "        [0.1655, 0.2602,   -inf,   -inf,   -inf,   -inf],\n",
      "        [0.1667, 0.2602, 0.2577,   -inf,   -inf,   -inf],\n",
      "        [0.0510, 0.1080, 0.1064, 0.0643,   -inf,   -inf],\n",
      "        [0.1415, 0.1875, 0.1863, 0.0987, 0.1121,   -inf],\n",
      "        [0.0476, 0.1192, 0.1171, 0.0731, 0.0477, 0.0966]],\n",
      "       grad_fn=<MaskedFillBackward0>)\n"
     ]
    }
   ],
   "source": [
    "mask=torch.triu(torch.ones(context_length,context_length), diagonal=1)\n",
    "masked=attn_scores.masked_fill(mask.bool(),-torch.inf)\n",
    "print(masked)"
   ]
  },
  {
   "cell_type": "code",
   "execution_count": 28,
   "id": "7bdb6c28-3fc4-4986-9d58-e2ec3d1ea418",
   "metadata": {},
   "outputs": [
    {
     "name": "stdout",
     "output_type": "stream",
     "text": [
      "tensor([[1.0000, 0.0000, 0.0000, 0.0000, 0.0000, 0.0000],\n",
      "        [0.4833, 0.5167, 0.0000, 0.0000, 0.0000, 0.0000],\n",
      "        [0.3190, 0.3408, 0.3402, 0.0000, 0.0000, 0.0000],\n",
      "        [0.2445, 0.2545, 0.2542, 0.2468, 0.0000, 0.0000],\n",
      "        [0.1994, 0.2060, 0.2058, 0.1935, 0.1953, 0.0000],\n",
      "        [0.1624, 0.1709, 0.1706, 0.1654, 0.1625, 0.1682]],\n",
      "       grad_fn=<SoftmaxBackward0>)\n"
     ]
    }
   ],
   "source": [
    "attn_weights=torch.softmax(masked/keys.shape[-1]**0.5,dim=-1)\n",
    "print(attn_weights)"
   ]
  },
  {
   "cell_type": "markdown",
   "id": "ae2c1a81-6d21-427e-a772-08ff2b76e176",
   "metadata": {},
   "source": [
    "# masking addtional attention weights with dropout"
   ]
  },
  {
   "cell_type": "code",
   "execution_count": 30,
   "id": "d77e36a7-15a7-489b-be3a-708f07ba8514",
   "metadata": {},
   "outputs": [
    {
     "name": "stdout",
     "output_type": "stream",
     "text": [
      "tensor([[2., 2., 0., 2., 2., 0.],\n",
      "        [0., 0., 0., 2., 0., 2.],\n",
      "        [2., 2., 2., 2., 0., 2.],\n",
      "        [0., 2., 2., 0., 0., 2.],\n",
      "        [0., 2., 0., 2., 0., 2.],\n",
      "        [0., 2., 2., 2., 2., 0.]])\n"
     ]
    }
   ],
   "source": [
    "torch.manual_seed(123)\n",
    "dropout=torch.nn.Dropout(0.5)\n",
    "example=torch.ones(6,6)\n",
    "print(dropout(example))"
   ]
  },
  {
   "cell_type": "code",
   "execution_count": 31,
   "id": "1f970729-7636-44a4-ad0a-5ad7c40bd965",
   "metadata": {},
   "outputs": [
    {
     "name": "stdout",
     "output_type": "stream",
     "text": [
      "tensor([[2.0000, 0.0000, 0.0000, 0.0000, 0.0000, 0.0000],\n",
      "        [0.0000, 0.0000, 0.0000, 0.0000, 0.0000, 0.0000],\n",
      "        [0.6380, 0.6816, 0.6804, 0.0000, 0.0000, 0.0000],\n",
      "        [0.0000, 0.5090, 0.5085, 0.0000, 0.0000, 0.0000],\n",
      "        [0.0000, 0.4120, 0.0000, 0.3869, 0.0000, 0.0000],\n",
      "        [0.0000, 0.3418, 0.3413, 0.3308, 0.3249, 0.0000]],\n",
      "       grad_fn=<MulBackward0>)\n"
     ]
    }
   ],
   "source": [
    "torch.manual_seed(123)\n",
    "print(dropout(attn_weights))"
   ]
  },
  {
   "cell_type": "markdown",
   "id": "bf376b62-9142-4008-8431-064b7f29b6af",
   "metadata": {},
   "source": [
    "# implementing a compact casual self attention class"
   ]
  },
  {
   "cell_type": "code",
   "execution_count": 32,
   "id": "4eeefea3-6551-4441-b32f-6046997c8251",
   "metadata": {},
   "outputs": [
    {
     "name": "stdout",
     "output_type": "stream",
     "text": [
      "torch.Size([2, 6, 3])\n"
     ]
    }
   ],
   "source": [
    "batch=torch.stack((inputs,inputs),dim=0)\n",
    "print(batch.shape)"
   ]
  },
  {
   "cell_type": "code",
   "execution_count": 39,
   "id": "56d2b76c-8e34-46a1-aac2-7593b4ddaf0a",
   "metadata": {},
   "outputs": [],
   "source": [
    "class CausalAttention(nn.Module):\n",
    "    def __init__(self, d_in, d_out, context_length,\n",
    "                 dropout, qkv_bias=False):\n",
    "        super().__init__()\n",
    "        self.d_out = d_out\n",
    "        self.W_query = nn.Linear(d_in, d_out, bias=qkv_bias)\n",
    "        self.W_key   = nn.Linear(d_in, d_out, bias=qkv_bias)\n",
    "        self.W_value = nn.Linear(d_in, d_out, bias=qkv_bias)\n",
    "        self.dropout = nn.Dropout(dropout) # New\n",
    "        self.register_buffer('mask', torch.triu(torch.ones(context_length, context_length), diagonal=1)) # New\n",
    "\n",
    "    def forward(self, x):\n",
    "        b, num_tokens, d_in = x.shape # New batch dimension b \n",
    "        keys = self.W_key(x)\n",
    "        queries = self.W_query(x)\n",
    "        values = self.W_value(x)\n",
    "        attn_scores = queries @ keys.transpose(1, 2) # Changed transpose\n",
    "        attn_scores.masked_fill_(  # New, _ ops are in-place\n",
    "            self.mask.bool()[:num_tokens, :num_tokens], -torch.inf)  # `:num_tokens` to account for cases where the number of tokens in the batch is smaller than the supported context_size\n",
    "        attn_weights = torch.softmax(\n",
    "            attn_scores / keys.shape[-1]**0.5, dim=-1\n",
    "        )\n",
    "        attn_weights = self.dropout(attn_weights) # New\n",
    "        context_vec = attn_weights @ values\n",
    "        return context_vec"
   ]
  },
  {
   "cell_type": "code",
   "execution_count": 40,
   "id": "13c43170-dab0-4f62-99e7-9de9742f2417",
   "metadata": {},
   "outputs": [
    {
     "name": "stdout",
     "output_type": "stream",
     "text": [
      "tensor([[[-0.4519,  0.2216],\n",
      "         [-0.5874,  0.0058],\n",
      "         [-0.6300, -0.0632],\n",
      "         [-0.5675, -0.0843],\n",
      "         [-0.5526, -0.0981],\n",
      "         [-0.5299, -0.1081]],\n",
      "\n",
      "        [[-0.4519,  0.2216],\n",
      "         [-0.5874,  0.0058],\n",
      "         [-0.6300, -0.0632],\n",
      "         [-0.5675, -0.0843],\n",
      "         [-0.5526, -0.0981],\n",
      "         [-0.5299, -0.1081]]], grad_fn=<UnsafeViewBackward0>)\n",
      "context_vecs.shape: torch.Size([2, 6, 2])\n"
     ]
    }
   ],
   "source": [
    "torch.manual_seed(123)\n",
    "context_length=batch.shape[1]\n",
    "ca=CausalAttention(d_in,d_out,context_length,0.0)\n",
    "context_vecs=ca(batch)\n",
    "print(context_vecs)\n",
    "print(\"context_vecs.shape:\",context_vecs.shape)"
   ]
  },
  {
   "cell_type": "markdown",
   "id": "a691603c-0aac-4a2c-a0f1-3265c0b4c923",
   "metadata": {},
   "source": []
  }
 ],
 "metadata": {
  "kernelspec": {
   "display_name": "Python 3 (ipykernel)",
   "language": "python",
   "name": "python3"
  },
  "language_info": {
   "codemirror_mode": {
    "name": "ipython",
    "version": 3
   },
   "file_extension": ".py",
   "mimetype": "text/x-python",
   "name": "python",
   "nbconvert_exporter": "python",
   "pygments_lexer": "ipython3",
   "version": "3.13.3"
  }
 },
 "nbformat": 4,
 "nbformat_minor": 5
}
