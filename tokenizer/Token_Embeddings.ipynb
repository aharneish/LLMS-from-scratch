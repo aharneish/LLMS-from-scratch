{
 "cells": [
  {
   "cell_type": "code",
   "execution_count": 1,
   "id": "d38d7ef7-5421-4868-b0a3-f6806f7379ec",
   "metadata": {},
   "outputs": [],
   "source": [
    "import torch"
   ]
  },
  {
   "cell_type": "code",
   "execution_count": 2,
   "id": "6560d34c-dedb-475b-9260-9a7b206da4e7",
   "metadata": {},
   "outputs": [],
   "source": [
    "input_ids=torch.tensor([2,3,5,1])"
   ]
  },
  {
   "cell_type": "code",
   "execution_count": 3,
   "id": "671fa2ff-626e-48af-b983-b050051d02f5",
   "metadata": {},
   "outputs": [],
   "source": [
    "vocab_size=6\n",
    "output_dim=3\n",
    "torch.manual_seed(123)\n",
    "embedding_layer=torch.nn.Embedding(vocab_size,output_dim)"
   ]
  },
  {
   "cell_type": "code",
   "execution_count": 4,
   "id": "a4c8493d-f627-4952-8aa0-8037ca2119fd",
   "metadata": {},
   "outputs": [
    {
     "name": "stdout",
     "output_type": "stream",
     "text": [
      "Parameter containing:\n",
      "tensor([[ 0.3374, -0.1778, -0.1690],\n",
      "        [ 0.9178,  1.5810,  1.3010],\n",
      "        [ 1.2753, -0.2010, -0.1606],\n",
      "        [-0.4015,  0.9666, -1.1481],\n",
      "        [-1.1589,  0.3255, -0.6315],\n",
      "        [-2.8400, -0.7849, -1.4096]], requires_grad=True)\n"
     ]
    }
   ],
   "source": [
    "print(embedding_layer.weight)"
   ]
  },
  {
   "cell_type": "code",
   "execution_count": 5,
   "id": "2992026c-a441-4a90-9e8b-6e04ed3a70f1",
   "metadata": {},
   "outputs": [
    {
     "name": "stdout",
     "output_type": "stream",
     "text": [
      "Embedding(6, 3)\n"
     ]
    }
   ],
   "source": [
    "print(embedding_layer)"
   ]
  },
  {
   "cell_type": "code",
   "execution_count": 6,
   "id": "37aeead3-81c5-4a32-95bb-a2fd70442a40",
   "metadata": {},
   "outputs": [
    {
     "data": {
      "text/plain": [
       "tensor([[-0.4015,  0.9666, -1.1481]], grad_fn=<EmbeddingBackward0>)"
      ]
     },
     "execution_count": 6,
     "metadata": {},
     "output_type": "execute_result"
    }
   ],
   "source": [
    "embedding_layer(torch.tensor([3]))"
   ]
  },
  {
   "cell_type": "code",
   "execution_count": 7,
   "id": "26242750-4736-4509-8e92-394882c17eee",
   "metadata": {},
   "outputs": [
    {
     "data": {
      "text/plain": [
       "tensor([[ 1.2753, -0.2010, -0.1606],\n",
       "        [-0.4015,  0.9666, -1.1481],\n",
       "        [-2.8400, -0.7849, -1.4096],\n",
       "        [ 0.9178,  1.5810,  1.3010]], grad_fn=<EmbeddingBackward0>)"
      ]
     },
     "execution_count": 7,
     "metadata": {},
     "output_type": "execute_result"
    }
   ],
   "source": [
    "embedding_layer(input_ids)"
   ]
  },
  {
   "cell_type": "markdown",
   "id": "741230ed-eab1-4316-bb7c-a2cd639dca6d",
   "metadata": {},
   "source": [
    "# Understanding the difference between Embedding Layers and Linear Layers"
   ]
  },
  {
   "cell_type": "code",
   "execution_count": 8,
   "id": "4b6c3842-29b8-4a2b-bdd7-48d5b5d68a9b",
   "metadata": {},
   "outputs": [],
   "source": [
    "idx=torch.tensor([2,3,5,1])\n",
    "num_idx=max(idx)+1\n",
    "out_dim=5"
   ]
  },
  {
   "cell_type": "code",
   "execution_count": 9,
   "id": "f06d2609-85b9-4ed7-877d-bade5b066b99",
   "metadata": {},
   "outputs": [],
   "source": [
    "torch.manual_seed(123)\n",
    "embedding=torch.nn.Embedding(num_idx,out_dim)"
   ]
  },
  {
   "cell_type": "code",
   "execution_count": 10,
   "id": "bfb0ff10-482b-4fa4-a695-0711f72f22f8",
   "metadata": {},
   "outputs": [
    {
     "data": {
      "text/plain": [
       "Parameter containing:\n",
       "tensor([[ 0.3374, -0.1778, -0.3035, -0.5880,  0.3486],\n",
       "        [ 0.6603, -0.2196, -0.3792,  0.7671, -1.1925],\n",
       "        [ 0.6984, -1.4097,  0.1794,  1.8951,  1.3689],\n",
       "        [-1.6033, -1.3250,  0.1784, -2.1338,  1.0524],\n",
       "        [-0.3885, -0.9343,  1.8319, -0.3378,  0.8805],\n",
       "        [ 1.5542,  0.6266, -0.1755,  0.0983, -0.0935]], requires_grad=True)"
      ]
     },
     "execution_count": 10,
     "metadata": {},
     "output_type": "execute_result"
    }
   ],
   "source": [
    "embedding.weight"
   ]
  },
  {
   "cell_type": "code",
   "execution_count": 11,
   "id": "8555b2b9-63e7-4001-9bdd-f7c7fabbd537",
   "metadata": {},
   "outputs": [
    {
     "data": {
      "text/plain": [
       "tensor([[ 0.6603, -0.2196, -0.3792,  0.7671, -1.1925]],\n",
       "       grad_fn=<EmbeddingBackward0>)"
      ]
     },
     "execution_count": 11,
     "metadata": {},
     "output_type": "execute_result"
    }
   ],
   "source": [
    "embedding(torch.tensor([1]))"
   ]
  },
  {
   "cell_type": "code",
   "execution_count": 12,
   "id": "c73f40e4-b0b8-4007-a2ce-c92c111237a9",
   "metadata": {},
   "outputs": [
    {
     "data": {
      "text/plain": [
       "tensor([[ 0.6984, -1.4097,  0.1794,  1.8951,  1.3689]],\n",
       "       grad_fn=<EmbeddingBackward0>)"
      ]
     },
     "execution_count": 12,
     "metadata": {},
     "output_type": "execute_result"
    }
   ],
   "source": [
    "embedding(torch.tensor([2]))"
   ]
  },
  {
   "cell_type": "code",
   "execution_count": 13,
   "id": "edd29067-9b7f-4a6b-8b9d-ec33840436e4",
   "metadata": {},
   "outputs": [
    {
     "data": {
      "text/plain": [
       "tensor([[ 0.6984, -1.4097,  0.1794,  1.8951,  1.3689],\n",
       "        [-1.6033, -1.3250,  0.1784, -2.1338,  1.0524],\n",
       "        [ 0.6603, -0.2196, -0.3792,  0.7671, -1.1925]],\n",
       "       grad_fn=<EmbeddingBackward0>)"
      ]
     },
     "execution_count": 13,
     "metadata": {},
     "output_type": "execute_result"
    }
   ],
   "source": [
    "idx = torch.tensor([2, 3, 1])\n",
    "embedding(idx)"
   ]
  },
  {
   "cell_type": "markdown",
   "id": "495cb7c4-7adc-4ae6-98a6-8f4a914c00d6",
   "metadata": {},
   "source": [
    "# using nn.linear"
   ]
  },
  {
   "cell_type": "code",
   "execution_count": 14,
   "id": "666a0856-d5e4-4d45-bbad-8b70d8423600",
   "metadata": {},
   "outputs": [
    {
     "data": {
      "text/plain": [
       "tensor([[0, 0, 1, 0],\n",
       "        [0, 0, 0, 1],\n",
       "        [0, 1, 0, 0]])"
      ]
     },
     "execution_count": 14,
     "metadata": {},
     "output_type": "execute_result"
    }
   ],
   "source": [
    "onehot = torch.nn.functional.one_hot(idx)\n",
    "onehot"
   ]
  },
  {
   "cell_type": "code",
   "execution_count": 15,
   "id": "db96c4f0-1371-4dd1-acee-403084daeb96",
   "metadata": {},
   "outputs": [],
   "source": [
    "num_idx = max(idx)+1\n",
    "\n",
    "# The desired embedding dimension is a hyperparameter\n",
    "out_dim = 5"
   ]
  },
  {
   "cell_type": "code",
   "execution_count": 16,
   "id": "33209774-ba87-4f96-a11f-78c488a9fbec",
   "metadata": {},
   "outputs": [
    {
     "data": {
      "text/plain": [
       "tensor(4)"
      ]
     },
     "execution_count": 16,
     "metadata": {},
     "output_type": "execute_result"
    }
   ],
   "source": [
    "num_idx"
   ]
  },
  {
   "cell_type": "code",
   "execution_count": 17,
   "id": "e8c6cc40-e79c-4945-af95-70edcffc1a5c",
   "metadata": {},
   "outputs": [
    {
     "data": {
      "text/plain": [
       "5"
      ]
     },
     "execution_count": 17,
     "metadata": {},
     "output_type": "execute_result"
    }
   ],
   "source": [
    "out_dim"
   ]
  },
  {
   "cell_type": "code",
   "execution_count": 27,
   "id": "eb6b59f7-e55c-4b61-9559-dfa734f7f8fb",
   "metadata": {},
   "outputs": [],
   "source": [
    "embedding=torch.nn.Embedding(num_idx,out_dim)"
   ]
  },
  {
   "cell_type": "code",
   "execution_count": 28,
   "id": "d59b1100-0d32-4916-9505-eab5905d66de",
   "metadata": {},
   "outputs": [
    {
     "data": {
      "text/plain": [
       "Parameter containing:\n",
       "tensor([[-0.2039,  0.0166, -0.2483,  0.1886],\n",
       "        [-0.4260,  0.3665, -0.3634, -0.3975],\n",
       "        [-0.3159,  0.2264, -0.1847,  0.1871],\n",
       "        [-0.4244, -0.3034, -0.1836, -0.0983],\n",
       "        [-0.3814,  0.3274, -0.1179,  0.1605]], requires_grad=True)"
      ]
     },
     "execution_count": 28,
     "metadata": {},
     "output_type": "execute_result"
    }
   ],
   "source": [
    "torch.manual_seed(123)\n",
    "linear = torch.nn.Linear(4, 5, bias=False)\n",
    "linear.weight"
   ]
  },
  {
   "cell_type": "code",
   "execution_count": 29,
   "id": "3d099054-6606-4292-bbb5-4927ae10017f",
   "metadata": {},
   "outputs": [],
   "source": [
    "linear.weight = torch.nn.Parameter(embedding.weight.T)"
   ]
  },
  {
   "cell_type": "code",
   "execution_count": 30,
   "id": "6ab8d968-36e2-452d-9406-5f8b9a0676e9",
   "metadata": {},
   "outputs": [
    {
     "data": {
      "text/plain": [
       "Parameter containing:\n",
       "tensor([[ 1.5810,  0.2492, -0.9620, -1.7018],\n",
       "        [ 1.3010, -0.4845,  1.2825, -0.7498],\n",
       "        [ 1.2753, -2.0929, -0.3430, -1.1285],\n",
       "        [-0.2010, -0.8199, -0.6821,  0.4135],\n",
       "        [ 0.9624, -0.4210, -0.9887,  0.2892]], requires_grad=True)"
      ]
     },
     "execution_count": 30,
     "metadata": {},
     "output_type": "execute_result"
    }
   ],
   "source": [
    "linear.weight"
   ]
  },
  {
   "cell_type": "code",
   "execution_count": 31,
   "id": "a05ec01b-1600-42f1-b252-3637b5b46512",
   "metadata": {},
   "outputs": [
    {
     "data": {
      "text/plain": [
       "tensor([[-0.9620,  1.2825, -0.3430, -0.6821, -0.9887],\n",
       "        [-1.7018, -0.7498, -1.1285,  0.4135,  0.2892],\n",
       "        [ 0.2492, -0.4845, -2.0929, -0.8199, -0.4210]], grad_fn=<MmBackward0>)"
      ]
     },
     "execution_count": 31,
     "metadata": {},
     "output_type": "execute_result"
    }
   ],
   "source": [
    "linear(onehot.float())"
   ]
  },
  {
   "cell_type": "code",
   "execution_count": 32,
   "id": "69d55bb3-e340-4351-ae72-597a8fce3fa6",
   "metadata": {},
   "outputs": [
    {
     "data": {
      "text/plain": [
       "tensor([[-0.9620,  1.2825, -0.3430, -0.6821, -0.9887],\n",
       "        [-1.7018, -0.7498, -1.1285,  0.4135,  0.2892],\n",
       "        [ 0.2492, -0.4845, -2.0929, -0.8199, -0.4210]],\n",
       "       grad_fn=<EmbeddingBackward0>)"
      ]
     },
     "execution_count": 32,
     "metadata": {},
     "output_type": "execute_result"
    }
   ],
   "source": [
    "embedding(idx)"
   ]
  },
  {
   "cell_type": "code",
   "execution_count": null,
   "id": "9ff21666-939d-4ec7-9d41-2ee637096dd3",
   "metadata": {},
   "outputs": [],
   "source": []
  }
 ],
 "metadata": {
  "kernelspec": {
   "display_name": "Python 3 (ipykernel)",
   "language": "python",
   "name": "python3"
  },
  "language_info": {
   "codemirror_mode": {
    "name": "ipython",
    "version": 3
   },
   "file_extension": ".py",
   "mimetype": "text/x-python",
   "name": "python",
   "nbconvert_exporter": "python",
   "pygments_lexer": "ipython3",
   "version": "3.13.3"
  }
 },
 "nbformat": 4,
 "nbformat_minor": 5
}
