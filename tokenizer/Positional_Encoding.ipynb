{
 "cells": [
  {
   "cell_type": "code",
   "execution_count": 1,
   "id": "bd4075f8-857b-4868-bef7-100163cd9ab7",
   "metadata": {},
   "outputs": [],
   "source": [
    "import torch\n",
    "import tiktoken"
   ]
  },
  {
   "cell_type": "code",
   "execution_count": 2,
   "id": "277e1be3-ff05-47d9-a7e4-3b5291185e1a",
   "metadata": {},
   "outputs": [],
   "source": [
    "vocab_size=50257\n",
    "output_dim=256\n",
    "token_embedding_layer=torch.nn.Embedding(vocab_size,output_dim)"
   ]
  },
  {
   "cell_type": "code",
   "execution_count": 3,
   "id": "dd145c6a-bb94-44e1-9f51-667e671622f3",
   "metadata": {},
   "outputs": [],
   "source": [
    "with open(\"D:/python/LLMS from scratch/the-verdict.txt\", encoding=\"utf-8\") as f:\n",
    "    raw_text = f.read()"
   ]
  },
  {
   "cell_type": "code",
   "execution_count": 4,
   "id": "db31f19f-1656-4a4f-a344-fbc23d32bcf4",
   "metadata": {},
   "outputs": [],
   "source": [
    "from torch.utils.data import Dataset, DataLoader\n",
    "class GPTDatasetV1(Dataset):\n",
    "    def __init__(self,txt,tokenizer,max_length,stride):\n",
    "        self.input_ids=[]\n",
    "        self.target_ids=[]\n",
    "        #print(tokenizer)\n",
    "        token_ids=tokenizer.encode(txt,allowed_special={\"<|endoftext|>\"})\n",
    "        assert len(token_ids)>max_length,\"Number of tokenized inputs must atleast be equal to max_length+1\"\n",
    "        for i in range(0,len(token_ids)-max_length,stride):\n",
    "            input_chunk = token_ids[i:i + max_length]\n",
    "            target_chunk=token_ids[i+1:i+max_length+1]\n",
    "            self.input_ids.append(torch.tensor(input_chunk))\n",
    "            self.target_ids.append(torch.tensor(target_chunk))\n",
    "    def __len__(self):\n",
    "        return len(self.input_ids)\n",
    "    def __getitem__(self,idx):\n",
    "        return self.input_ids[idx],self.target_ids[idx]"
   ]
  },
  {
   "cell_type": "code",
   "execution_count": 5,
   "id": "fb01fe4d-8c05-4646-b926-9515321d34e1",
   "metadata": {},
   "outputs": [],
   "source": [
    "def create_dataloader_v1(txt,batch_size=4,max_length=256,stride=128,shuffle=True,drop_last=True,num_workers=0):\n",
    "    tokenizer=tiktoken.get_encoding(\"gpt2\")\n",
    "    #print(tokenizer)\n",
    "    dataset=GPTDatasetV1(txt,tokenizer,max_length,stride)\n",
    "    dataloader=DataLoader(dataset,batch_size=batch_size,drop_last=drop_last,num_workers=num_workers)\n",
    "    return dataloader"
   ]
  },
  {
   "cell_type": "code",
   "execution_count": 6,
   "id": "16fee8a8-d4e7-4fa3-96a4-2a9f65035eee",
   "metadata": {},
   "outputs": [],
   "source": [
    "max_length=4\n",
    "dataloader=create_dataloader_v1(raw_text,batch_size=8,max_length=max_length,stride=max_length,shuffle=False)\n",
    "data_iter=iter(dataloader)\n",
    "inputs,targets=next(data_iter)"
   ]
  },
  {
   "cell_type": "code",
   "execution_count": 7,
   "id": "a8f8baf3-c616-47e7-bf95-0e73a99a9ef8",
   "metadata": {},
   "outputs": [
    {
     "name": "stdout",
     "output_type": "stream",
     "text": [
      "Token IDs:\n",
      " tensor([[   40,   367,  2885,  1464],\n",
      "        [ 1807,  3619,   402,   271],\n",
      "        [10899,  2138,   257,  7026],\n",
      "        [15632,   438,  2016,   257],\n",
      "        [  922,  5891,  1576,   438],\n",
      "        [  568,   340,   373,   645],\n",
      "        [ 1049,  5975,   284,   502],\n",
      "        [  284,  3285,   326,    11]])\n",
      "\n",
      "Inputs shape:\n",
      " torch.Size([8, 4])\n"
     ]
    }
   ],
   "source": [
    "print(\"Token IDs:\\n\",inputs)\n",
    "print(\"\\nInputs shape:\\n\",inputs.shape)"
   ]
  },
  {
   "cell_type": "code",
   "execution_count": 8,
   "id": "c8d93454-c880-4f4d-838d-47c8b9c73ff3",
   "metadata": {},
   "outputs": [
    {
     "name": "stdout",
     "output_type": "stream",
     "text": [
      "torch.Size([8, 4, 256])\n"
     ]
    }
   ],
   "source": [
    "token_embeddings=token_embedding_layer(inputs)\n",
    "print(token_embeddings.shape)"
   ]
  },
  {
   "cell_type": "code",
   "execution_count": 9,
   "id": "1f2d1b3a-4d4b-4a1c-8cfa-39d5d79583f2",
   "metadata": {},
   "outputs": [
    {
     "name": "stdout",
     "output_type": "stream",
     "text": [
      "tensor([[[-0.1185,  1.2531,  1.1718,  ...,  0.5579, -0.0919, -1.6358],\n",
      "         [ 0.8390,  1.2565, -0.2434,  ..., -0.1829,  0.9217, -0.5658],\n",
      "         [-0.0914,  0.2528, -0.0332,  ...,  1.2087,  1.7421,  1.8649],\n",
      "         [-0.7077, -1.0134, -0.9225,  ...,  0.8112, -1.1777,  0.7985]],\n",
      "\n",
      "        [[ 0.5194, -0.4138,  0.7430,  ...,  1.2920,  0.2389,  0.9786],\n",
      "         [ 1.3507, -0.7826, -1.1391,  ..., -0.2171,  0.1396, -0.1430],\n",
      "         [-2.3030,  0.0967, -1.6021,  ...,  0.1107, -0.6649, -1.6735],\n",
      "         [-1.0469, -0.4320, -1.9581,  ...,  0.5492,  0.3595, -0.5028]],\n",
      "\n",
      "        [[-1.2574,  1.3457,  1.3278,  ..., -0.4519, -0.0385,  0.7265],\n",
      "         [ 1.0049,  0.4325,  0.9904,  ...,  2.4112, -0.3613, -2.2954],\n",
      "         [-0.5660,  0.8005, -1.2830,  ..., -0.1358, -0.1082, -1.9270],\n",
      "         [-0.5165, -1.7819,  1.2953,  ...,  0.6293, -2.3749,  1.0709]],\n",
      "\n",
      "        ...,\n",
      "\n",
      "        [[ 0.3189,  1.2414, -0.8044,  ..., -0.4731,  0.3910, -2.9868],\n",
      "         [-0.9354, -1.4637, -1.0346,  ..., -0.1318, -0.9898,  1.2760],\n",
      "         [-0.3145, -1.8249, -1.5171,  ..., -1.3207, -2.2034,  0.6511],\n",
      "         [-0.0844, -0.1983, -1.3014,  ..., -1.3687, -1.9224,  0.5940]],\n",
      "\n",
      "        [[-0.2749, -0.5944, -0.6941,  ...,  1.8412, -0.9514, -0.6037],\n",
      "         [ 0.6882, -0.8285,  2.1019,  ..., -0.7515,  0.7932, -0.4653],\n",
      "         [-0.5733, -1.2597, -0.3892,  ...,  0.1363,  0.7843,  0.2846],\n",
      "         [ 1.4218, -0.6500,  0.8357,  ...,  1.9222, -1.5404, -1.0585]],\n",
      "\n",
      "        [[-0.5733, -1.2597, -0.3892,  ...,  0.1363,  0.7843,  0.2846],\n",
      "         [ 1.6908, -0.6321,  0.4215,  ..., -0.4279, -1.3732,  0.1432],\n",
      "         [ 0.0246,  0.5987,  0.4498,  ...,  0.1059, -0.9529, -0.0319],\n",
      "         [-0.1643, -1.4787,  1.5978,  ...,  0.0312, -0.4045, -0.5710]]],\n",
      "       grad_fn=<EmbeddingBackward0>)\n"
     ]
    }
   ],
   "source": [
    "print(token_embeddings)"
   ]
  },
  {
   "cell_type": "code",
   "execution_count": 10,
   "id": "a05b33b2-fcfd-4176-bc6a-4bf4a484d061",
   "metadata": {},
   "outputs": [
    {
     "name": "stdout",
     "output_type": "stream",
     "text": [
      "Parameter containing:\n",
      "tensor([[ 0.3399, -0.8767,  0.1429,  ...,  0.7552,  0.7155,  0.1646],\n",
      "        [-0.6140, -0.7585,  0.3350,  ...,  0.2641,  1.0881,  1.1475],\n",
      "        [ 0.0867, -1.1406,  0.4970,  ...,  0.6885, -1.0880, -1.0414],\n",
      "        [-0.7297, -0.5230,  1.1102,  ...,  0.6880,  0.0716, -0.5580]],\n",
      "       requires_grad=True)\n"
     ]
    }
   ],
   "source": [
    "context_length=max_length\n",
    "pos_embedding_layer=torch.nn.Embedding(context_length,output_dim)\n",
    "print(pos_embedding_layer.weight)"
   ]
  },
  {
   "cell_type": "code",
   "execution_count": 12,
   "id": "cd1498c6-c4d8-4c3e-b6d9-06842ef2afe2",
   "metadata": {},
   "outputs": [
    {
     "name": "stdout",
     "output_type": "stream",
     "text": [
      "Embedding(4, 256)\n"
     ]
    }
   ],
   "source": [
    "print(pos_embedding_layer)"
   ]
  },
  {
   "cell_type": "code",
   "execution_count": null,
   "id": "132a8bc1-0a01-4305-b865-1a5f6b205bb1",
   "metadata": {},
   "outputs": [],
   "source": []
  }
 ],
 "metadata": {
  "kernelspec": {
   "display_name": "Python 3 (ipykernel)",
   "language": "python",
   "name": "python3"
  },
  "language_info": {
   "codemirror_mode": {
    "name": "ipython",
    "version": 3
   },
   "file_extension": ".py",
   "mimetype": "text/x-python",
   "name": "python",
   "nbconvert_exporter": "python",
   "pygments_lexer": "ipython3",
   "version": "3.13.3"
  }
 },
 "nbformat": 4,
 "nbformat_minor": 5
}
